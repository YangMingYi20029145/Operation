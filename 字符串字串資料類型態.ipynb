{
  "nbformat": 4,
  "nbformat_minor": 0,
  "metadata": {
    "colab": {
      "name": "字符串字串資料類型態.ipynb",
      "provenance": [],
      "collapsed_sections": [],
      "authorship_tag": "ABX9TyMGh5z0D5/uZHD+eOJZzG5i",
      "include_colab_link": true
    },
    "kernelspec": {
      "name": "python3",
      "display_name": "Python 3"
    }
  },
  "cells": [
    {
      "cell_type": "markdown",
      "metadata": {
        "id": "view-in-github",
        "colab_type": "text"
      },
      "source": [
        "<a href=\"https://colab.research.google.com/github/YangMingYi20029145/Operation/blob/master/%E5%AD%97%E7%AC%A6%E4%B8%B2%E5%AD%97%E4%B8%B2%E8%B3%87%E6%96%99%E9%A1%9E%E5%9E%8B%E6%85%8B.ipynb\" target=\"_parent\"><img src=\"https://colab.research.google.com/assets/colab-badge.svg\" alt=\"Open In Colab\"/></a>"
      ]
    },
    {
      "cell_type": "markdown",
      "metadata": {
        "id": "841g0acGSI1I",
        "colab_type": "text"
      },
      "source": [
        "#字符串字串資料類型態（數據類型）\n",
        "\n",
        "恩師最偉大"
      ]
    },
    {
      "cell_type": "code",
      "metadata": {
        "id": "pmz6qiCEQQI7",
        "colab_type": "code",
        "colab": {}
      },
      "source": [
        "str1 = '這是字串'\n",
        "print(str1)\n",
        "\n",
        "str2 = \"這也是字串\"\n",
        "print(str2)\n",
        "\n",
        "str3 = \"allows embedded 'double' quotes\"\n",
        "print(str3)\n"
      ],
      "execution_count": null,
      "outputs": []
    },
    {
      "cell_type": "code",
      "metadata": {
        "id": "3AGqrZ0umh9D",
        "colab_type": "code",
        "colab": {}
      },
      "source": [
        "var1 = 'Hello Python!'\n",
        " \n",
        "print(\"var1[0]: \", var1[0])\n",
        "print(\"var1[1:8]: \", var1[1:8])"
      ],
      "execution_count": null,
      "outputs": []
    },
    {
      "cell_type": "code",
      "metadata": {
        "id": "EwRt7N8dWBoj",
        "colab_type": "code",
        "colab": {}
      },
      "source": [
        "str4=str1 + str2\n",
        "print(str4)"
      ],
      "execution_count": null,
      "outputs": []
    },
    {
      "cell_type": "code",
      "metadata": {
        "id": "zShaYp9zWPJj",
        "colab_type": "code",
        "colab": {}
      },
      "source": [
        "a='  Hello   '\n",
        "b='  Python ! '\n",
        "\n",
        "a+b\n",
        "\n",
        "a*2\n",
        "\n",
        "a[1:4]\n",
        "\n",
        "\"H\" in a\n",
        "\n",
        "\"H\" not in a"
      ],
      "execution_count": null,
      "outputs": []
    },
    {
      "cell_type": "code",
      "metadata": {
        "id": "Q2DikJBXWm4S",
        "colab_type": "code",
        "colab": {}
      },
      "source": [
        "def reverse(s): \n",
        "    if len(s) == 0: \n",
        "        return s \n",
        "    else: \n",
        "        return reverse(s[1:]) + s[0] \n",
        "  \n",
        "#s = \"HappyHackingDay\"\n",
        "s = \"BreakAllCTF{HappyHackingDay}\"\n",
        "\n",
        "print (\"The original string  is : \",end=\"\") \n",
        "print (s) \n",
        "  \n",
        "print (\"The reversed string(using recursion) is : \",end=\"\") \n",
        "print (reverse(s))"
      ],
      "execution_count": null,
      "outputs": []
    },
    {
      "cell_type": "markdown",
      "metadata": {
        "id": "Y5N4NdFThm3C",
        "colab_type": "text"
      },
      "source": [
        "# Python內建的字串函數\n",
        "\n",
        "恩師最偉大"
      ]
    },
    {
      "cell_type": "code",
      "metadata": {
        "id": "MCfbZeyXb6e-",
        "colab_type": "code",
        "colab": {}
      },
      "source": [
        "str1='happy python day'\n",
        "str2='    Oh!   '\n",
        "str4=str1 + str2\n",
        "print(str4.capitalize())"
      ],
      "execution_count": null,
      "outputs": []
    },
    {
      "cell_type": "code",
      "metadata": {
        "id": "e4UIiDmFkBzV",
        "colab_type": "code",
        "colab": {}
      },
      "source": [
        "str = \"Python2019\"\n",
        "print(str.isalpha())\n",
        "\n",
        "str = \"Python\"\n",
        "print(str.isalpha())"
      ],
      "execution_count": null,
      "outputs": []
    },
    {
      "cell_type": "code",
      "metadata": {
        "id": "-hmMN3Guktay",
        "colab_type": "code",
        "colab": {}
      },
      "source": [
        "str = \"Python2019\"\n",
        "print(str.isalnum())\n",
        "\n",
        "str = \"Python\"\n",
        "print(str.isalnum())\n",
        "\n",
        "str = \"2019\"\n",
        "print(str.isalnum())\n",
        "\n",
        "str = \"Python 2019\"\n",
        "print(str.isalnum())"
      ],
      "execution_count": null,
      "outputs": []
    }
  ]
}