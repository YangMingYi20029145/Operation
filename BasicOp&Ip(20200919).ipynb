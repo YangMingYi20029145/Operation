{
  "nbformat": 4,
  "nbformat_minor": 0,
  "metadata": {
    "colab": {
      "name": "BasicOp&Ip(20200919).ipynb",
      "provenance": [],
      "collapsed_sections": [],
      "authorship_tag": "ABX9TyPbjfFjqcZR8t3rS4hxs7FT",
      "include_colab_link": true
    },
    "kernelspec": {
      "name": "python3",
      "display_name": "Python 3"
    }
  },
  "cells": [
    {
      "cell_type": "markdown",
      "metadata": {
        "id": "view-in-github",
        "colab_type": "text"
      },
      "source": [
        "<a href=\"https://colab.research.google.com/github/YangMingYi20029145/Operation/blob/master/BasicOp%26Ip(20200919).ipynb\" target=\"_parent\"><img src=\"https://colab.research.google.com/assets/colab-badge.svg\" alt=\"Open In Colab\"/></a>"
      ]
    },
    {
      "cell_type": "markdown",
      "metadata": {
        "id": "cAhxEq7qKq1m",
        "colab_type": "text"
      },
      "source": [
        "#20200919\n",
        "\n",
        "恩師最偉大"
      ]
    },
    {
      "cell_type": "code",
      "metadata": {
        "id": "OjQJZyZeEbD5",
        "colab_type": "code",
        "colab": {}
      },
      "source": [
        "x = input('Enter your namne:')\n",
        "print('Hello, '+ x)\n",
        "\n",
        "a = input('請輸入:')\n",
        "a\n"
      ],
      "execution_count": null,
      "outputs": []
    },
    {
      "cell_type": "code",
      "metadata": {
        "id": "pdTsVHjXFY71",
        "colab_type": "code",
        "colab": {}
      },
      "source": [
        "a = int(input(\"請輸入：\"))\n",
        "a\n",
        "b=a+30\n",
        "b"
      ],
      "execution_count": null,
      "outputs": []
    },
    {
      "cell_type": "code",
      "metadata": {
        "id": "G_btks4GJD16",
        "colab_type": "code",
        "colab": {}
      },
      "source": [
        "x, y, z = [int(x) for x in input(\" Enter three value: \").split()] \n",
        "print(\" First Number is: \", x) \n",
        "print(\" Second Number is: \", y) \n",
        "print(\" Third Number is: \", z) \n",
        "print()\n",
        "\n",
        "x, y, z = [int(x) for x in input(\" Enter three value: \").split(\",\")] \n",
        "print(\" First Number is: \", x) \n",
        "print(\" Second Number is: \", y) \n",
        "print(\" Third Number is: \", z) \n",
        "print()\n",
        "\n",
        "a, b = input(\"Enter a two value: \").split() \n",
        "print(\"First number is {} and second number is {}\".format(a, b)) \n",
        "print()"
      ],
      "execution_count": null,
      "outputs": []
    }
  ]
}